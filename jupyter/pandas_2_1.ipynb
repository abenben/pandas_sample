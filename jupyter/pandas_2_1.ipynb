{
 "cells": [
  {
   "cell_type": "code",
   "execution_count": 6,
   "metadata": {},
   "outputs": [],
   "source": [
    "import pandas as pd\n",
    "import numpy as np"
   ]
  },
  {
   "cell_type": "code",
   "execution_count": 7,
   "metadata": {
    "pycharm": {
     "name": "#%%\n"
    }
   },
   "outputs": [
    {
     "name": "stdout",
     "output_type": "stream",
     "text": [
      "[185, 162, 171, 155, 191, 166]\n"
     ]
    }
   ],
   "source": [
    "height_list = [185, 162, 171, 155, 191, 166]\n",
    "height_series = pd.Series(height_list)\n",
    "print(height_list)"
   ]
  },
  {
   "cell_type": "code",
   "execution_count": 8,
   "metadata": {},
   "outputs": [
    {
     "name": "stdout",
     "output_type": "stream",
     "text": [
      "0    72\n",
      "1    51\n",
      "2    69\n",
      "3    55\n",
      "4    87\n",
      "5    78\n",
      "dtype: int64\n"
     ]
    }
   ],
   "source": [
    "weight_arr = np.array([72, 51, 69, 55, 87, 78])\n",
    "weight_series = pd.Series(weight_arr)\n",
    "print(weight_series)"
   ]
  },
  {
   "cell_type": "code",
   "execution_count": 10,
   "metadata": {},
   "outputs": [
    {
     "name": "stdout",
     "output_type": "stream",
     "text": [
      "0    1\n",
      "1    2\n",
      "2    3\n",
      "Name: some series, dtype: int64\n"
     ]
    }
   ],
   "source": [
    "ser = pd.Series([1, 2, 3], name='some series')\n",
    "print(ser)"
   ]
  },
  {
   "cell_type": "code",
   "execution_count": null,
   "metadata": {},
   "outputs": [],
   "source": []
  }
 ],
 "metadata": {
  "kernelspec": {
   "display_name": "Python 3 (ipykernel)",
   "language": "python",
   "name": "python3"
  },
  "language_info": {
   "codemirror_mode": {
    "name": "ipython",
    "version": 3
   },
   "file_extension": ".py",
   "mimetype": "text/x-python",
   "name": "python",
   "nbconvert_exporter": "python",
   "pygments_lexer": "ipython3",
   "version": "3.10.0b4"
  }
 },
 "nbformat": 4,
 "nbformat_minor": 1
}